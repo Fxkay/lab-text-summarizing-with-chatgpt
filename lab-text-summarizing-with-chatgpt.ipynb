{
 "cells": [
  {
   "cell_type": "markdown",
   "metadata": {},
   "source": [
    "# Text summarizing with ChaptGPT\n",
    "In this lesson, you will summarize text with a focus on specific topics.\n",
    "\n",
    "## Setup"
   ]
  },
  {
   "cell_type": "code",
   "execution_count": 8,
   "metadata": {
    "tags": []
   },
   "outputs": [],
   "source": [
    "from openai import OpenAI\n",
    "import os\n",
    "\n",
    "from dotenv import load_dotenv, find_dotenv\n",
    "_ = load_dotenv(find_dotenv()) # read local .env file\n",
    "\n",
    "OPENAI_API_KEY  = os.getenv('OPENAI_API_KEY')"
   ]
  },
  {
   "cell_type": "code",
   "execution_count": 7,
   "metadata": {
    "tags": []
   },
   "outputs": [],
   "source": [
    "client = OpenAI(\n",
    "    # This is the default and can be omitted\n",
    "    api_key=OPENAI_API_KEY,\n",
    ")\n",
    "\n",
    "\n",
    "def get_completion(prompt, model=\"gpt-3.5-turbo\"): # Andrew mentioned that the prompt/ completion paradigm is preferable for this class\n",
    "    messages = [{\"role\": \"user\", \"content\": prompt}]\n",
    "    response = client.chat.completions.create(\n",
    "        model=model,\n",
    "        messages=messages,\n",
    "        temperature=0, # this is the degree of randomness of the model's output\n",
    "    )\n",
    "    return response.choices[0].message.content\n"
   ]
  },
  {
   "cell_type": "markdown",
   "metadata": {},
   "source": [
    "## Text to summarize"
   ]
  },
  {
   "cell_type": "code",
   "execution_count": null,
   "metadata": {
    "tags": []
   },
   "outputs": [],
   "source": [
    "prod_review = \"\"\"\n",
    "Got this panda plush toy for my daughter's birthday, \\\n",
    "who loves it and takes it everywhere. It's soft and \\ \n",
    "super cute, and its face has a friendly look. It's \\ \n",
    "a bit small for what I paid though. I think there \\ \n",
    "might be other options that are bigger for the \\ \n",
    "same price. It arrived a day earlier than expected, \\ \n",
    "so I got to play with it myself before I gave it \\ \n",
    "to her.\n",
    "\"\"\""
   ]
  },
  {
   "cell_type": "markdown",
   "metadata": {},
   "source": [
    "## Summarize with a word/sentence/character limit"
   ]
  },
  {
   "cell_type": "code",
   "execution_count": null,
   "metadata": {
    "tags": []
   },
   "outputs": [],
   "source": [
    "prompt = f\"\"\"\n",
    "Your task is to generate a short summary of a product \\\n",
    "review from an ecommerce site. \n",
    "\n",
    "Summarize the review below, delimited by triple \n",
    "backticks, in at most 30 words. \n",
    "\n",
    "Review: ```{prod_review}```\n",
    "\"\"\"\n",
    "\n",
    "response = get_completion(prompt)\n",
    "print(response)\n"
   ]
  },
  {
   "cell_type": "markdown",
   "metadata": {},
   "source": [
    "## Summarize with a focus on shipping and delivery"
   ]
  },
  {
   "cell_type": "code",
   "execution_count": null,
   "metadata": {
    "tags": []
   },
   "outputs": [],
   "source": [
    "prompt = f\"\"\"\n",
    "Your task is to generate a short summary of a product \\\n",
    "review from an ecommerce site to give feedback to the \\\n",
    "Shipping deparmtment. \n",
    "\n",
    "Summarize the review below, delimited by triple \n",
    "backticks, in at most 30 words, and focusing on any aspects \\\n",
    "that mention shipping and delivery of the product. \n",
    "\n",
    "Review: ```{prod_review}```\n",
    "\"\"\"\n",
    "\n",
    "response = get_completion(prompt)\n",
    "print(response)\n"
   ]
  },
  {
   "cell_type": "markdown",
   "metadata": {},
   "source": [
    "## Summarize with a focus on price and value"
   ]
  },
  {
   "cell_type": "code",
   "execution_count": null,
   "metadata": {
    "tags": []
   },
   "outputs": [],
   "source": [
    "prompt = f\"\"\"\n",
    "Your task is to generate a short summary of a product \\\n",
    "review from an ecommerce site to give feedback to the \\\n",
    "pricing deparmtment, responsible for determining the \\\n",
    "price of the product.  \n",
    "\n",
    "Summarize the review below, delimited by triple \n",
    "backticks, in at most 30 words, and focusing on any aspects \\\n",
    "that are relevant to the price and perceived value. \n",
    "\n",
    "Review: ```{prod_review}```\n",
    "\"\"\"\n",
    "\n",
    "response = get_completion(prompt)\n",
    "print(response)\n"
   ]
  },
  {
   "cell_type": "markdown",
   "metadata": {},
   "source": [
    "#### Comment\n",
    "- Summaries include topics that are not related to the topic of focus."
   ]
  },
  {
   "cell_type": "markdown",
   "metadata": {},
   "source": [
    "## Try \"extract\" instead of \"summarize\""
   ]
  },
  {
   "cell_type": "code",
   "execution_count": null,
   "metadata": {
    "tags": []
   },
   "outputs": [],
   "source": [
    "prompt = f\"\"\"\n",
    "Your task is to extract relevant information from \\ \n",
    "a product review from an ecommerce site to give \\\n",
    "feedback to the Shipping department. \n",
    "\n",
    "From the review below, delimited by triple quotes \\\n",
    "extract the information relevant to shipping and \\ \n",
    "delivery. Limit to 30 words. \n",
    "\n",
    "Review: ```{prod_review}```\n",
    "\"\"\"\n",
    "\n",
    "response = get_completion(prompt)\n",
    "print(response)"
   ]
  },
  {
   "cell_type": "markdown",
   "metadata": {},
   "source": [
    "## Summarize multiple product reviews"
   ]
  },
  {
   "cell_type": "code",
   "execution_count": null,
   "metadata": {
    "tags": []
   },
   "outputs": [],
   "source": [
    "\n",
    "review_1 = prod_review \n",
    "\n",
    "# review for a standing lamp\n",
    "review_2 = \"\"\"\n",
    "Needed a nice lamp for my bedroom, and this one \\\n",
    "had additional storage and not too high of a price \\\n",
    "point. Got it fast - arrived in 2 days. The string \\\n",
    "to the lamp broke during the transit and the company \\\n",
    "happily sent over a new one. Came within a few days \\\n",
    "as well. It was easy to put together. Then I had a \\\n",
    "missing part, so I contacted their support and they \\\n",
    "very quickly got me the missing piece! Seems to me \\\n",
    "to be a great company that cares about their customers \\\n",
    "and products. \n",
    "\"\"\"\n",
    "\n",
    "# review for an electric toothbrush\n",
    "review_3 = \"\"\"\n",
    "My dental hygienist recommended an electric toothbrush, \\\n",
    "which is why I got this. The battery life seems to be \\\n",
    "pretty impressive so far. After initial charging and \\\n",
    "leaving the charger plugged in for the first week to \\\n",
    "condition the battery, I've unplugged the charger and \\\n",
    "been using it for twice daily brushing for the last \\\n",
    "3 weeks all on the same charge. But the toothbrush head \\\n",
    "is too small. I’ve seen baby toothbrushes bigger than \\\n",
    "this one. I wish the head was bigger with different \\\n",
    "length bristles to get between teeth better because \\\n",
    "this one doesn’t.  Overall if you can get this one \\\n",
    "around the $50 mark, it's a good deal. The manufactuer's \\\n",
    "replacements heads are pretty expensive, but you can \\\n",
    "get generic ones that're more reasonably priced. This \\\n",
    "toothbrush makes me feel like I've been to the dentist \\\n",
    "every day. My teeth feel sparkly clean! \n",
    "\"\"\"\n",
    "\n",
    "# review for a blender\n",
    "review_4 = \"\"\"\n",
    "So, they still had the 17 piece system on seasonal \\\n",
    "sale for around $49 in the month of November, about \\\n",
    "half off, but for some reason (call it price gouging) \\\n",
    "around the second week of December the prices all went \\\n",
    "up to about anywhere from between $70-$89 for the same \\\n",
    "system. And the 11 piece system went up around $10 or \\\n",
    "so in price also from the earlier sale price of $29. \\\n",
    "So it looks okay, but if you look at the base, the part \\\n",
    "where the blade locks into place doesn’t look as good \\\n",
    "as in previous editions from a few years ago, but I \\\n",
    "plan to be very gentle with it (example, I crush \\\n",
    "very hard items like beans, ice, rice, etc. in the \\ \n",
    "blender first then pulverize them in the serving size \\\n",
    "I want in the blender then switch to the whipping \\\n",
    "blade for a finer flour, and use the cross cutting blade \\\n",
    "first when making smoothies, then use the flat blade \\\n",
    "if I need them finer/less pulpy). Special tip when making \\\n",
    "smoothies, finely cut and freeze the fruits and \\\n",
    "vegetables (if using spinach-lightly stew soften the \\ \n",
    "spinach then freeze until ready for use-and if making \\\n",
    "sorbet, use a small to medium sized food processor) \\ \n",
    "that you plan to use that way you can avoid adding so \\\n",
    "much ice if at all-when making your smoothie. \\\n",
    "After about a year, the motor was making a funny noise. \\\n",
    "I called customer service but the warranty expired \\\n",
    "already, so I had to buy another one. FYI: The overall \\\n",
    "quality has gone done in these types of products, so \\\n",
    "they are kind of counting on brand recognition and \\\n",
    "consumer loyalty to maintain sales. Got it in about \\\n",
    "two days.\n",
    "\"\"\"\n",
    "\n",
    "reviews = [review_1, review_2, review_3, review_4]"
   ]
  },
  {
   "cell_type": "code",
   "execution_count": null,
   "metadata": {
    "tags": []
   },
   "outputs": [],
   "source": [
    "for i in range(len(reviews)):\n",
    "    prompt = f\"\"\"\n",
    "    Your task is to generate a short summary of a product \\ \n",
    "    review from an ecommerce site. \n",
    "\n",
    "    Summarize the review below, delimited by triple \\\n",
    "    backticks in at most 20 words. \n",
    "\n",
    "    Review: ```{reviews[i]}```\n",
    "    \"\"\"\n",
    "\n",
    "    response = get_completion(prompt)\n",
    "    print(i, response, \"\\n\")"
   ]
  },
  {
   "cell_type": "markdown",
   "metadata": {},
   "source": [
    "# Exercise\n",
    " - Complete the prompts similar to what we did in class. \n",
    "     - Try at least 3 versions\n",
    "     - Be creative\n",
    " - Write a one page report summarizing your findings.\n",
    "     - Were there variations that didn't work well? i.e., where GPT either hallucinated or wrong\n",
    " - What did you learn?"
   ]
  },
  {
   "cell_type": "code",
   "execution_count": 9,
   "metadata": {},
   "outputs": [],
   "source": [
    "prod_review = \"\"\"\n",
    "Your task is to generate reviews of rentals properties \\\n",
    "based in Lagos nigeria.\\\n",
    "Give long 2 positive and 2 negative [over to 250 tokens]\\\n",
    "Give short 2 positive and 2 negative [less than t0 250 tokens]\\\n",
    "\"\"\""
   ]
  },
  {
   "cell_type": "code",
   "execution_count": 10,
   "metadata": {},
   "outputs": [
    {
     "name": "stdout",
     "output_type": "stream",
     "text": [
      "Long Positive Review 1: \n",
      "I recently stayed at a rental property in Lagos, Nigeria and I was thoroughly impressed with the level of hospitality and service provided. The property was clean, well-maintained, and had all the amenities I needed for a comfortable stay. The staff were friendly and accommodating, always willing to assist with any requests or questions I had. The location was also convenient, with easy access to nearby attractions and restaurants. Overall, I had a fantastic experience and would highly recommend this rental property to anyone visiting Lagos.\n",
      "\n",
      "Long Positive Review 2:\n",
      "I had the pleasure of staying at a rental property in Lagos, Nigeria and it exceeded all my expectations. The property was beautifully decorated, spacious, and had stunning views of the city. The amenities provided were top-notch, from the fully equipped kitchen to the luxurious bedding. The location was perfect, with easy access to shopping centers, restaurants, and nightlife. The staff were professional and attentive, making sure my stay was as comfortable as possible. I had a wonderful time and would definitely stay at this property again in the future.\n",
      "\n",
      "Short Positive Review 1:\n",
      "The rental property in Lagos, Nigeria was a hidden gem! The location was perfect, close to everything I needed. The property itself was clean, modern, and had all the amenities I could ask for. The staff were friendly and helpful, making my stay even more enjoyable. I would definitely recommend this property to anyone looking for a comfortable and convenient place to stay in Lagos.\n",
      "\n",
      "Short Positive Review 2:\n",
      "I had a fantastic experience staying at a rental property in Lagos, Nigeria. The property was beautifully furnished, with a stunning view of the city. The staff were attentive and made sure I had everything I needed for a comfortable stay. The location was ideal, with easy access to transportation and nearby attractions. I would definitely stay at this property again in the future.\n",
      "\n",
      "Long Negative Review 1:\n",
      "Unfortunately, my experience at a rental property in Lagos, Nigeria was less than satisfactory. The property was not well-maintained, with issues such as broken appliances, dirty linens, and a musty odor throughout. The staff were unresponsive to my complaints and seemed indifferent to my concerns. The location was also not as convenient as advertised, with limited access to public transportation and few nearby amenities. Overall, I was disappointed with my stay and would not recommend this property to others.\n",
      "\n",
      "Long Negative Review 2:\n",
      "I had a disappointing experience staying at a rental property in Lagos, Nigeria. The property was not as advertised, with outdated furnishings, poor cleanliness, and a lack of basic amenities. The staff were unprofessional and unhelpful, making me feel unwelcome during my stay. The location was also inconvenient, far from the city center and with limited options for dining and entertainment. Overall, I was dissatisfied with my experience and would not choose to stay at this property again.\n",
      "\n",
      "Short Negative Review 1:\n",
      "My stay at a rental property in Lagos, Nigeria was a letdown. The property was not well-maintained, with issues such as broken appliances and dirty bathrooms. The staff were unresponsive to my complaints and seemed disinterested in providing a satisfactory experience. The location was also not ideal, with limited access to nearby attractions and amenities. I would not recommend this property to others looking for a comfortable and enjoyable stay in Lagos.\n",
      "\n",
      "Short Negative Review 2:\n",
      "I was disappointed with my stay at a rental property in Lagos, Nigeria. The property was not as clean or well-maintained as I had hoped, with issues such as broken furniture and a lack of basic amenities. The staff were unprofessional and unhelpful, making my experience even more unpleasant. The location was also not convenient, with limited options for dining and entertainment nearby. Overall, I would not recommend this property to others seeking a comfortable and enjoyable stay in Lagos.\n"
     ]
    }
   ],
   "source": [
    "prompt = f\"\"\"\n",
    "Your task is to generate reviews of rentals properties \\\n",
    "based in Lagos nigeria.\\\n",
    "Give long 2 positive and 2 negative [over to 250 tokens]\\\n",
    "Give short 2 positive and 2 negative [less than t0 250 tokens]\\\n",
    " \n",
    "\n",
    "Review: ```{prod_review}```\n",
    "\"\"\"\n",
    "\n",
    "response = get_completion(prompt)\n",
    "print(response)"
   ]
  },
  {
   "cell_type": "code",
   "execution_count": 11,
   "metadata": {},
   "outputs": [],
   "source": [
    "review_1 = prod_review \n",
    "\n",
    "# review for a standing lamp\n",
    "review_2 = \"\"\"\n",
    "I was disappointed with the rental property in Lagos, \\\n",
    "Nigeria. The cleanliness was subpar, \\\n",
    "with dirty floors and stained linens\\. \\\n",
    "The property was also lacking in basic amenities,\\\n",
    "such as toiletries and kitchen supplies. \\\n",
    "The location was far from the city center, \\\n",
    "making it inconvenient to get around. \\\n",
    "Overall, I would not recommend this rental property to\\\n",
    "others looking for a comfortable and enjoyable stay in Lagos. \\\n",
    "\"\"\"\n",
    "\n",
    "# Long Positive Review Rentals\n",
    "review_2 = \"\"\"\n",
    "\n",
    "I recently stayed at a rental property in Lagos, Nigeria\\\n",
    "and I was thoroughly impressed with the cleanliness and\\\n",
    "modern amenities provided. The location was perfect, \\\n",
    "with easy access to restaurants and shopping centers.\\\n",
    "The property was spacious and well-maintained, \\\n",
    "with comfortable furniture and a fully equipped kitchen.\\\n",
    "The staff were friendly and accommodating, making my \\\n",
    "stay truly enjoyable. I would highly recommend this rental\\ \n",
    "property to anyone looking for a comfortable and convenient\\\n",
    "place to stay in Lagos. \n",
    "\"\"\"\n",
    "\n",
    "# Long Negative Review Rentals\n",
    "review_3 = \"\"\"\n",
    "Unfortunately, my experience at a rental property in Lagos,\\\n",
    "Nigeria was less than satisfactory. \\\n",
    "The property was not as clean as I had hoped, \\\n",
    "with dust and dirt in various areas. The furniture wa\\\n",
    "s outdated and uncomfortable, making it difficult to relax \\\n",
    "and unwind. The location was also not ideal,\\\n",
    "as it was far from the main attractions and required a long commute to get anywhere.\\\n",
    "Additionally, the staff were unresponsive\\\n",
    "to my requests and seemed disinterested in providing good customer \\\n",
    "service. Overall, I would not recommend this rental property to others.\\\n",
    "\n",
    "\"\"\"\n",
    "\n",
    "# Short Positive Review:\n",
    "review_4 = \"\"\"\n",
    "The rental property in Lagos,\\\n",
    "Nigeria exceeded my expectations in every way. \\\n",
    "The location was perfect,\\ \n",
    "with stunning views of the city skyline. \\\n",
    "The property itself was beautifully decorated and \\\n",
    "well-equipped with everything I needed for a \\\n",
    "comfortable stay. The staff were friendly and attentive,\\ \n",
    "making me feel right at home. \\\n",
    "I would definitely stay here again in the future.\\\n",
    "\"\"\"\n",
    "\n",
    "reviews = [review_1, review_2, review_3, review_4]"
   ]
  },
  {
   "cell_type": "code",
   "execution_count": 12,
   "metadata": {},
   "outputs": [
    {
     "name": "stdout",
     "output_type": "stream",
     "text": [
      "0 Task to review Lagos rentals: 2 long positive/negative reviews over 250 tokens, 2 short positive/negative reviews under 250 tokens. \n",
      "\n",
      "1 Impressive rental property in Lagos, Nigeria with modern amenities, cleanliness, spaciousness, and friendly staff. Highly recommended for convenience. \n",
      "\n",
      "2 Disappointing rental property in Lagos, Nigeria with cleanliness issues, uncomfortable furniture, inconvenient location, and unresponsive staff. Not recommended. \n",
      "\n",
      "3 The rental property in Lagos, Nigeria exceeded expectations with perfect location, stunning views, beautiful decor, and attentive staff. \n",
      "\n"
     ]
    }
   ],
   "source": [
    "for i in range(len(reviews)):\n",
    "    prompt = f\"\"\"\n",
    "\n",
    "    Summarize the review above, delimited by triple \\\n",
    "    backticks in at most 20 words. \n",
    "\n",
    "    Review: ```{reviews[i]}```\n",
    "    \"\"\"\n",
    "\n",
    "    response = get_completion(prompt)\n",
    "    print(i, response, \"\\n\")"
   ]
  },
  {
   "cell_type": "code",
   "execution_count": null,
   "metadata": {},
   "outputs": [],
   "source": []
  }
 ],
 "metadata": {
  "kernelspec": {
   "display_name": "New_Hack_Lib",
   "language": "python",
   "name": "python3"
  },
  "language_info": {
   "codemirror_mode": {
    "name": "ipython",
    "version": 3
   },
   "file_extension": ".py",
   "mimetype": "text/x-python",
   "name": "python",
   "nbconvert_exporter": "python",
   "pygments_lexer": "ipython3",
   "version": "3.10.18"
  }
 },
 "nbformat": 4,
 "nbformat_minor": 4
}
